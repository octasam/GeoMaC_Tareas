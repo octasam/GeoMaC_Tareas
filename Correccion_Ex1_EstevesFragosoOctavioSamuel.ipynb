{
 "cells": [
  {
   "cell_type": "code",
   "execution_count": 1,
   "metadata": {},
   "outputs": [],
   "source": [
    "import numpy as np\n",
    "import matplotlib.pyplot as plt\n",
    "%matplotlib inline"
   ]
  },
  {
   "cell_type": "markdown",
   "metadata": {},
   "source": [
    "# APROXIMACION TAYLOR"
   ]
  },
  {
   "cell_type": "code",
   "execution_count": 8,
   "metadata": {},
   "outputs": [
    {
     "name": "stdout",
     "output_type": "stream",
     "text": [
      "Aproximacion metodo a\n",
      "3.5551835317460334\n",
      "\n",
      "Aproximacion metodo b\n",
      "1.6186112\n"
     ]
    }
   ],
   "source": [
    "#Funcion 1\n",
    "f = lambda x : np.exp(x)\n",
    "\n",
    "#Metodo a\n",
    "#i va de 0 hasta 9\n",
    "\n",
    "ma = lambda x : (((-1)**i * 5**i)/np.math.factorial(i))\n",
    "\n",
    "#Sumando a\n",
    "suma1=0\n",
    "for i in range(0,9):\n",
    "    \n",
    "    ma = (((-1)**i * 5**i)/np.math.factorial(i))\n",
    "    suma1= suma1 + ma\n",
    "    #print(ma)\n",
    "print('Aproximacion metodo a')\n",
    "print (suma1)\n",
    "print('')\n",
    "#Metodo b\n",
    "\n",
    "mb = lambda x : (1)/(5)**i / np.math.factorial(i)\n",
    "\n",
    "#Sumando b\n",
    "suma2=0\n",
    "for i in range(0,9):\n",
    "    \n",
    "    mb = ((1)/(((5)**i) / (np.math.factorial(i))))\n",
    "    suma2 = suma2 + mb\n",
    "    #print(mb)\n",
    "print('Aproximacion metodo b')\n",
    "print (suma2)\n",
    "\n",
    "\n",
    "\n",
    "#Correcion\n",
    "\n",
    "\n",
    "def aprox_a(x,n):\n",
    "    suma = 0\n",
    "    for i in range(0,n+1):\n",
    "        suma += (-1)**i * 5**i/ np.math.factorial(i)\n",
    "    return suma    \n",
    "\n",
    "def aprox_b(x,n):\n",
    "    suma = 0\n",
    "    for i in range(0,n+1):\n",
    "        suma += (5)**i / np.math.factorial(i)\n",
    "    return 1 / suma\n",
    "\n",
    "In [ ]:\n",
    "\n",
    "x = -5\n",
    "n = 20\n",
    "e1 = aprox_a(x,n)\n",
    "e2 = aprox_b(x,n)\n",
    "\n",
    "print('e = {:.55f}'.format(np.exp(-5)))\n",
    "print('e = {:.55f}'.format(e1))\n",
    "print('e = {:.55f}'.format(e2))\n"
   ]
  },
  {
   "cell_type": "markdown",
   "metadata": {},
   "source": [
    "# *EVALUAR n*"
   ]
  },
  {
   "cell_type": "code",
   "execution_count": 7,
   "metadata": {},
   "outputs": [
    {
     "name": "stdout",
     "output_type": "stream",
     "text": [
      "Aproximacion metodo a\n",
      "0.006267311767057594\n",
      "\n",
      "Aproximacion metodo b\n",
      "1.6186112\n"
     ]
    }
   ],
   "source": [
    "#Funcion 2\n",
    "f = lambda x : np.exp(x)\n",
    "\n",
    "#Metodo a\n",
    "#i va de 0 hasta 9\n",
    "\n",
    "ma = lambda x : (((-1)**i * 5**i)/np.math.factorial(i))\n",
    "\n",
    "#Sumando a\n",
    "suma1=0\n",
    "for i in range(0,18):\n",
    "    \n",
    "    ma = (((-1)**i * 5**i)/np.math.factorial(i))\n",
    "    suma1= suma1 + ma\n",
    "    #print(ma)\n",
    "print('Aproximacion metodo a')\n",
    "print (suma1)\n",
    "print('')\n",
    "#Metodo b\n",
    "\n",
    "mb = lambda x : (1)/(5)**i / np.math.factorial(i)\n",
    "\n",
    "#Sumando b\n",
    "suma2=0\n",
    "for i in range(0,9):\n",
    "    \n",
    "    mb = ((1)/((5)**i / np.math.factorial(i)))\n",
    "    suma2 = suma2 + mb\n",
    "    #print(mb)\n",
    "print('Aproximacion metodo b')\n",
    "print (suma2)\n"
   ]
  },
  {
   "cell_type": "markdown",
   "metadata": {},
   "source": [
    "# FUNCIONES"
   ]
  },
  {
   "cell_type": "code",
   "execution_count": 4,
   "metadata": {},
   "outputs": [
    {
     "data": {
      "image/png": "[encoded data removed]",
      "text/plain": [
       "<Figure size 432x288 with 1 Axes>"
      ]
     },
     "metadata": {
      "needs_background": "light"
     },
     "output_type": "display_data"
    }
   ],
   "source": [
    "# Función a ser evaluada\n",
    "y = lambda x: 1 - np.exp(1)**x + (np.exp(1) - 1) * np.sin(np.pi*x / 2)\n",
    "\n",
    "# Dominio de la función\n",
    "xmin = 0\n",
    "xmax = 5\n",
    "x = np.linspace(xmin, xmax, 100)\n",
    "\n",
    "A = 0  # Extremo izquierdo del intervalo\n",
    "B = 1  # Extremo derecho del intervalo\n",
    "\n",
    "# Gráfica de la función\n",
    "plt.plot(x,y(x), 'r-', lw=2)\n",
    "\n",
    "# Líneas verticales en los extremos del intervalo y línea en y = 0\n",
    "ymin = np.min(y(x))\n",
    "ymax = np.max(y(x))\n",
    "plt.plot([A,A], [ymin,ymax], 'g--', lw=1)\n",
    "plt.plot([B,B], [ymin,ymax], 'g--', lw=1)\n",
    "plt.plot([xmin, xmax], [0,0], 'b-', lw=1)\n",
    "\n",
    "plt.grid()\n",
    "plt.show()\n",
    "\n",
    "\n",
    "#Correciones\n",
    "\n",
    "y0 = lambda x: 1 - np.exp(x) + (np.exp(1) - 1)*np.sin(np.pi*x/2)\n",
    "y1 = lambda x: (x-1)*np.tan(x)+ x * np.sin(np.pi * x)\n",
    "y2 = lambda x: x * np.sin(np.pi * x)-(x-2)* np.log(x)\n",
    "y3 = lambda x: (x-2)*np.sin(x)*np.log(x+2)\n",
    "x = np.linspace(-1,0,100)\n",
    "#plt.plot(x,y0(x))\n",
    "#plt.plot(x,y1(x))\n",
    "#plt.plot(x,y2(x))\n",
    "plt.plot(x,y3(x))\n",
    "plt.grid()\n",
    "\n"
   ]
  },
  {
   "cell_type": "code",
   "execution_count": 15,
   "metadata": {},
   "outputs": [
    {
     "data": {
      "image/png": "[encoded data removed]",
      "text/plain": [
       "<Figure size 432x288 with 1 Axes>"
      ]
     },
     "metadata": {
      "needs_background": "light"
     },
     "output_type": "display_data"
    }
   ],
   "source": [
    "# Función a ser evaluada\n",
    "y = lambda x: (x - 1) * np.tan(x) + x * np.sin(np.pi * x)\n",
    "\n",
    "# Dominio de la función\n",
    "xmin = 0\n",
    "xmax = 3\n",
    "x = np.linspace(xmin, xmax, 100)\n",
    "\n",
    "A = 0  # Extremo izquierdo del intervalo\n",
    "B = 0.04  # Extremo derecho del intervalo\n",
    "\n",
    "# Gráfica de la función\n",
    "plt.plot(x,y(x), 'r-', lw=2)\n",
    "\n",
    "# Líneas verticales en los extremos del intervalo y línea en y = 0\n",
    "ymin = np.min(y(x))\n",
    "ymax = np.max(y(x))\n",
    "plt.plot([A,A], [ymin,ymax], 'g--', lw=1)\n",
    "plt.plot([B,B], [ymin,ymax], 'g--', lw=1)\n",
    "plt.plot([xmin, xmax], [0,0], 'b-', lw=1)\n",
    "\n",
    "plt.grid()\n",
    "plt.show()\n",
    "\n",
    "\n",
    "#Correccion\n",
    "\n"
   ]
  },
  {
   "cell_type": "code",
   "execution_count": 12,
   "metadata": {},
   "outputs": [
    {
     "name": "stderr",
     "output_type": "stream",
     "text": [
      "/home/samuel/anaconda3/lib/python3.7/site-packages/ipykernel_launcher.py:2: RuntimeWarning: divide by zero encountered in log\n",
      "  \n"
     ]
    },
    {
     "data": {
      "image/png": "[encoded data removed]",
      "text/plain": [
       "<Figure size 432x288 with 1 Axes>"
      ]
     },
     "metadata": {
      "needs_background": "light"
     },
     "output_type": "display_data"
    }
   ],
   "source": [
    "# Función a ser evaluada\n",
    "y = lambda x: x * np.sin(np.pi * x) - (x - 2) * np.log(x)\n",
    "\n",
    "# Dominio de la función\n",
    "xmin = 0\n",
    "xmax = 5\n",
    "x = np.linspace(xmin, xmax, 100)\n",
    "\n",
    "A = 1  # Extremo izquierdo del intervalo\n",
    "B = 2  # Extremo derecho del intervalo\n",
    "\n",
    "# Gráfica de la función\n",
    "plt.plot(x,y(x), 'r-', lw=2)\n",
    "\n",
    "# Líneas verticales en los extremos del intervalo y línea en y = 0\n",
    "ymin = np.min(y(x))\n",
    "ymax = np.max(y(x))\n",
    "plt.plot([A,A], [ymin,ymax], 'g--', lw=1)\n",
    "plt.plot([B,B], [ymin,ymax], 'g--', lw=1)\n",
    "plt.plot([xmin, xmax], [0,0], 'b-', lw=1)\n",
    "\n",
    "plt.grid()\n",
    "plt.show()"
   ]
  },
  {
   "cell_type": "code",
   "execution_count": 14,
   "metadata": {},
   "outputs": [
    {
     "data": {
      "image/png": "[encoded data removed]",
      "text/plain": [
       "<Figure size 432x288 with 1 Axes>"
      ]
     },
     "metadata": {
      "needs_background": "light"
     },
     "output_type": "display_data"
    }
   ],
   "source": [
    "# Función a ser evaluada\n",
    "y = lambda x: (x - 2) * np.sin(x) * np.log(x + 2)\n",
    "\n",
    "# Dominio de la función\n",
    "xmin = 0\n",
    "xmax = 4\n",
    "x = np.linspace(xmin, xmax, 100)\n",
    "\n",
    "A = 1  # Extremo izquierdo del intervalo\n",
    "B = 2  # Extremo derecho del intervalo\n",
    "\n",
    "# Gráfica de la función\n",
    "plt.plot(x,y(x), 'r-', lw=2)\n",
    "\n",
    "# Líneas verticales en los extremos del intervalo y línea en y = 0\n",
    "ymin = np.min(y(x))\n",
    "ymax = np.max(y(x))\n",
    "plt.plot([A,A], [ymin,ymax], 'g--', lw=1)\n",
    "plt.plot([B,B], [ymin,ymax], 'g--', lw=1)\n",
    "plt.plot([xmin, xmax], [0,0], 'b-', lw=1)\n",
    "\n",
    "plt.grid()\n",
    "plt.show()"
   ]
  },
  {
   "cell_type": "markdown",
   "metadata": {},
   "source": [
    "# Errores absolutos y relativos"
   ]
  },
  {
   "cell_type": "code",
   "execution_count": 16,
   "metadata": {},
   "outputs": [
    {
     "name": "stdout",
     "output_type": "stream",
     "text": [
      "0.0012644892673496777\n",
      "0.0004024994347707008\n",
      "Error absoluto =  0.0012644892673496777036\n",
      "Error relativo =  0.00040249943477070078803\n"
     ]
    }
   ],
   "source": [
    "Ea= np.fabs(np.pi - 22/7)\n",
    "print(Ea)\n",
    "\n",
    "Er = Ea / np.fabs(np.pi)\n",
    "print(Er)\n",
    "\n",
    "print('Error absoluto = {: .20}'.format(Ea))\n",
    "print('Error relativo = {: .20}'.format(Er))"
   ]
  },
  {
   "cell_type": "code",
   "execution_count": 17,
   "metadata": {},
   "outputs": [
    {
     "name": "stdout",
     "output_type": "stream",
     "text": [
      "26.465794806717895\n",
      "0.0012015452253333286\n",
      "Error absoluto =  26.465794806717894971\n",
      "Error relativo =  0.0012015452253333286457\n"
     ]
    }
   ],
   "source": [
    "Ea= np.fabs(np.exp(10) - 22000)\n",
    "print(Ea)\n",
    "\n",
    "Er = Ea / np.fabs(np.exp(10))\n",
    "print(Er)\n",
    "\n",
    "print('Error absoluto = {: .20}'.format(Ea))\n",
    "print('Error relativo = {: .20}'.format(Er))"
   ]
  },
  {
   "cell_type": "code",
   "execution_count": 18,
   "metadata": {},
   "outputs": [
    {
     "name": "stdout",
     "output_type": "stream",
     "text": [
      "14.544268632989315\n",
      "0.010497822704619136\n",
      "Error absoluto =  14.544268632989314938\n",
      "Error relativo =  0.010497822704619136011\n"
     ]
    }
   ],
   "source": [
    "Ea= np.fabs(10**np.pi - 1400)\n",
    "print(Ea)\n",
    "\n",
    "Er = Ea / np.fabs(10**np.pi)\n",
    "print(Er)\n",
    "\n",
    "print('Error absoluto = {: .20}'.format(Ea))\n",
    "print('Error relativo = {: .20}'.format(Er))"
   ]
  },
  {
   "cell_type": "code",
   "execution_count": 27,
   "metadata": {},
   "outputs": [
    {
     "name": "stdout",
     "output_type": "stream",
     "text": [
      "0.9954687890629875\n",
      "Error absoluto =  361235.71417517692316\n",
      "Error relativo =  0.99546878906298752465\n"
     ]
    }
   ],
   "source": [
    "from math import sqrt\n",
    "Ea= np.fabs(np.math.factorial(9) - np.sqrt(18 * np.pi * (9 / np.exp(1))**9))\n",
    "\n",
    "Er= Ea / np.math.factorial(9)\n",
    "print(Er)\n",
    "\n",
    "print('Error absoluto = {: .20}'.format(Ea))\n",
    "print('Error relativo = {: .20}'.format(Er))"
   ]
  },
  {
   "cell_type": "code",
   "execution_count": null,
   "metadata": {},
   "outputs": [],
   "source": [
    "#Correciones\n",
    "\n",
    "\n",
    "Ea = lambda e, a: np.fabs(e - a)\n",
    "Er = lambda e, a: np.fabs(e - a) / np.fabs(e)\n",
    "\n",
    "p = [np.pi, np.exp(1)**10, 10**np.pi, np.math.factorial(9)]\n",
    "pa = [22/7, 22000, 1400, np.sqrt(18 * np.pi)*(9/np.exp(1))**9]\n",
    "\n",
    "print(p)\n",
    "print(pa)\n",
    "for e,a in zip(p, pa):\n",
    "    print('Error absoluto: {:10.5f}'.format(Ea(e,a)))\n",
    "    print('Error relativo: {:10.5f}'.format(Er(e,a)))"
   ]
  }
 ],
 "metadata": {
  "kernelspec": {
   "display_name": "Python 3",
   "language": "python",
   "name": "python3"
  },
  "language_info": {
   "codemirror_mode": {
    "name": "ipython",
    "version": 3
   },
   "file_extension": ".py",
   "mimetype": "text/x-python",
   "name": "python",
   "nbconvert_exporter": "python",
   "pygments_lexer": "ipython3",
   "version": "3.7.3"
  }
 },
 "nbformat": 4,
 "nbformat_minor": 2
}
